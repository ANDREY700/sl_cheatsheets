{
 "cells": [
  {
   "cell_type": "code",
   "execution_count": 52,
   "id": "cf81975e-a1f6-4617-982b-f30fb4005a37",
   "metadata": {},
   "outputs": [],
   "source": [
    "from sklearn.preprocessing import LabelEncoder\n",
    "import pandas as pd\n",
    "from pprint import pprint"
   ]
  },
  {
   "cell_type": "code",
   "execution_count": 41,
   "id": "74347636-cfbe-475e-a0cc-69db15ac47bc",
   "metadata": {},
   "outputs": [],
   "source": [
    "df = pd.DataFrame({'category' : ['VAO', 'CAO', 'SAO']})"
   ]
  },
  {
   "cell_type": "code",
   "execution_count": 11,
   "id": "0d7fb25f-3b9d-432f-bb1a-a41c65213491",
   "metadata": {},
   "outputs": [
    {
     "data": {
      "text/plain": [
       "'<table border=\"1\" class=\"dataframe\">\\n  <thead>\\n    <tr style=\"text-align: right;\">\\n      <th></th>\\n      <th>category</th>\\n    </tr>\\n  </thead>\\n  <tbody>\\n    <tr>\\n      <th>0</th>\\n      <td>VAO</td>\\n    </tr>\\n    <tr>\\n      <th>1</th>\\n      <td>CAO</td>\\n    </tr>\\n    <tr>\\n      <th>2</th>\\n      <td>SAO</td>\\n    </tr>\\n  </tbody>\\n</table>'"
      ]
     },
     "execution_count": 11,
     "metadata": {},
     "output_type": "execute_result"
    }
   ],
   "source": [
    "df.to_html()"
   ]
  },
  {
   "cell_type": "code",
   "execution_count": 17,
   "id": "946f4a4b-d408-46c1-a9a8-71f3b47976ce",
   "metadata": {},
   "outputs": [],
   "source": [
    "le = LabelEncoder()\n",
    "le.fit(df['category'])\n",
    "encoded_distrcit = le.transform(df['category'])\n",
    "df = df.assign(encoded=encoded_distrcit)"
   ]
  },
  {
   "cell_type": "code",
   "execution_count": 20,
   "id": "a4f1ba65-1fa2-4d1b-8299-7ee2a23eb9e6",
   "metadata": {},
   "outputs": [
    {
     "data": {
      "text/plain": [
       "'|    | category   |   encoded |\\n|---:|:-----------|----------:|\\n|  0 | VAO        |         2 |\\n|  1 | CAO        |         0 |\\n|  2 | SAO        |         1 |'"
      ]
     },
     "execution_count": 20,
     "metadata": {},
     "output_type": "execute_result"
    }
   ],
   "source": [
    "df.to_markdown()"
   ]
  },
  {
   "cell_type": "code",
   "execution_count": 26,
   "id": "4e82ce9d-9e5b-44d6-ba62-4d6efac7a76a",
   "metadata": {},
   "outputs": [],
   "source": [
    "del df['encoded']"
   ]
  },
  {
   "cell_type": "code",
   "execution_count": 27,
   "id": "5b65679e-ab27-4892-97bc-d72e1387e9e7",
   "metadata": {},
   "outputs": [],
   "source": [
    "from sklearn.preprocessing import OneHotEncoder"
   ]
  },
  {
   "cell_type": "code",
   "execution_count": 39,
   "id": "a1881793-bc29-4505-822a-7c6db898d0b0",
   "metadata": {},
   "outputs": [
    {
     "data": {
      "text/plain": [
       "['VAO', 'CAO', 'SAO']"
      ]
     },
     "execution_count": 39,
     "metadata": {},
     "output_type": "execute_result"
    }
   ],
   "source": [
    "df['category'].tolist()"
   ]
  },
  {
   "cell_type": "code",
   "execution_count": 46,
   "id": "3a134c0b-b6b1-47fa-8a38-694e5000600a",
   "metadata": {},
   "outputs": [
    {
     "data": {
      "text/html": [
       "<div>\n",
       "<style scoped>\n",
       "    .dataframe tbody tr th:only-of-type {\n",
       "        vertical-align: middle;\n",
       "    }\n",
       "\n",
       "    .dataframe tbody tr th {\n",
       "        vertical-align: top;\n",
       "    }\n",
       "\n",
       "    .dataframe thead th {\n",
       "        text-align: right;\n",
       "    }\n",
       "</style>\n",
       "<table border=\"1\" class=\"dataframe\">\n",
       "  <thead>\n",
       "    <tr style=\"text-align: right;\">\n",
       "      <th></th>\n",
       "      <th>category</th>\n",
       "    </tr>\n",
       "  </thead>\n",
       "  <tbody>\n",
       "    <tr>\n",
       "      <th>0</th>\n",
       "      <td>VAO</td>\n",
       "    </tr>\n",
       "    <tr>\n",
       "      <th>1</th>\n",
       "      <td>CAO</td>\n",
       "    </tr>\n",
       "    <tr>\n",
       "      <th>2</th>\n",
       "      <td>SAO</td>\n",
       "    </tr>\n",
       "  </tbody>\n",
       "</table>\n",
       "</div>"
      ],
      "text/plain": [
       "  category\n",
       "0      VAO\n",
       "1      CAO\n",
       "2      SAO"
      ]
     },
     "execution_count": 46,
     "metadata": {},
     "output_type": "execute_result"
    }
   ],
   "source": [
    "df"
   ]
  },
  {
   "cell_type": "code",
   "execution_count": 53,
   "id": "190a6162-bcce-47cd-9d0a-eeeba48488d5",
   "metadata": {},
   "outputs": [],
   "source": [
    "from sklearn.preprocessing import OneHotEncoder\n",
    "ohe = OneHotEncoder(sparse=False)\n",
    "ohe.fit_transform(df)"
   ]
  },
  {
   "cell_type": "code",
   "execution_count": 53,
   "id": "30e4adf8-ca4d-4551-b712-e6982fff718e",
   "metadata": {},
   "outputs": [
    {
     "name": "stdout",
     "output_type": "stream",
     "text": [
      "(\"|    | category   |   ('CAO',) |   ('SAO',) |   ('VAO',) |\\n\"\n",
      " '|---:|:-----------|-----------:|-----------:|-----------:|\\n'\n",
      " '|  0 | VAO        |          0 |          0 |          1 |\\n'\n",
      " '|  1 | CAO        |          1 |          0 |          0 |\\n'\n",
      " '|  2 | SAO        |          0 |          1 |          0 |')\n"
     ]
    }
   ],
   "source": [
    "pprint(pd.concat([df, pd.DataFrame(ohe.fit_transform(df), columns=ohe.categories_)], axis=1).to_markdown())"
   ]
  },
  {
   "cell_type": "code",
   "execution_count": 56,
   "id": "25d7ae4b-acec-4df3-a131-b2c8888911f4",
   "metadata": {},
   "outputs": [
    {
     "data": {
      "text/html": [
       "<div>\n",
       "<style scoped>\n",
       "    .dataframe tbody tr th:only-of-type {\n",
       "        vertical-align: middle;\n",
       "    }\n",
       "\n",
       "    .dataframe tbody tr th {\n",
       "        vertical-align: top;\n",
       "    }\n",
       "\n",
       "    .dataframe thead th {\n",
       "        text-align: right;\n",
       "    }\n",
       "</style>\n",
       "<table border=\"1\" class=\"dataframe\">\n",
       "  <thead>\n",
       "    <tr style=\"text-align: right;\">\n",
       "      <th></th>\n",
       "      <th>category</th>\n",
       "    </tr>\n",
       "  </thead>\n",
       "  <tbody>\n",
       "    <tr>\n",
       "      <th>0</th>\n",
       "      <td>VAO</td>\n",
       "    </tr>\n",
       "    <tr>\n",
       "      <th>1</th>\n",
       "      <td>CAO</td>\n",
       "    </tr>\n",
       "    <tr>\n",
       "      <th>2</th>\n",
       "      <td>SAO</td>\n",
       "    </tr>\n",
       "  </tbody>\n",
       "</table>\n",
       "</div>"
      ],
      "text/plain": [
       "  category\n",
       "0      VAO\n",
       "1      CAO\n",
       "2      SAO"
      ]
     },
     "execution_count": 56,
     "metadata": {},
     "output_type": "execute_result"
    }
   ],
   "source": [
    "df"
   ]
  },
  {
   "cell_type": "code",
   "execution_count": 69,
   "id": "b50d4bd4-f8e0-4ecf-b044-826798b3163e",
   "metadata": {},
   "outputs": [
    {
     "data": {
      "text/plain": [
       "array([[2.],\n",
       "       [0.],\n",
       "       [1.]])"
      ]
     },
     "execution_count": 69,
     "metadata": {},
     "output_type": "execute_result"
    }
   ],
   "source": [
    "from sklearn.preprocessing import OrdinalEncoder\n",
    "\n",
    "oe = OrdinalEncoder()\n",
    "le = LabelEncoder()\n",
    "oe.fit_transform(df, [1, 0, -1])"
   ]
  },
  {
   "cell_type": "code",
   "execution_count": 68,
   "id": "2edb76db-750a-442b-8992-3a2fa71b58b3",
   "metadata": {},
   "outputs": [
    {
     "name": "stderr",
     "output_type": "stream",
     "text": [
      "/Users/paveldumin/miniforge3/lib/python3.9/site-packages/sklearn/preprocessing/_label.py:115: DataConversionWarning: A column-vector y was passed when a 1d array was expected. Please change the shape of y to (n_samples, ), for example using ravel().\n",
      "  y = column_or_1d(y, warn=True)\n"
     ]
    },
    {
     "data": {
      "text/plain": [
       "array([2, 0, 1])"
      ]
     },
     "execution_count": 68,
     "metadata": {},
     "output_type": "execute_result"
    }
   ],
   "source": [
    "le.fit_transform(df)"
   ]
  },
  {
   "cell_type": "code",
   "execution_count": 79,
   "id": "ad93a599-d9b8-4dab-8f5d-14bfdd2e38c1",
   "metadata": {},
   "outputs": [],
   "source": [
    "df = pd.DataFrame({'category' : ['VAO', 'CAO', 'SAO', 'SVAO', 'SZAO']})"
   ]
  },
  {
   "cell_type": "code",
   "execution_count": 80,
   "id": "461c492c-4bdd-43b1-b991-d8969ab0eadd",
   "metadata": {},
   "outputs": [
    {
     "data": {
      "text/html": [
       "<div>\n",
       "<style scoped>\n",
       "    .dataframe tbody tr th:only-of-type {\n",
       "        vertical-align: middle;\n",
       "    }\n",
       "\n",
       "    .dataframe tbody tr th {\n",
       "        vertical-align: top;\n",
       "    }\n",
       "\n",
       "    .dataframe thead th {\n",
       "        text-align: right;\n",
       "    }\n",
       "</style>\n",
       "<table border=\"1\" class=\"dataframe\">\n",
       "  <thead>\n",
       "    <tr style=\"text-align: right;\">\n",
       "      <th></th>\n",
       "      <th>category</th>\n",
       "    </tr>\n",
       "  </thead>\n",
       "  <tbody>\n",
       "    <tr>\n",
       "      <th>0</th>\n",
       "      <td>VAO</td>\n",
       "    </tr>\n",
       "    <tr>\n",
       "      <th>1</th>\n",
       "      <td>CAO</td>\n",
       "    </tr>\n",
       "    <tr>\n",
       "      <th>2</th>\n",
       "      <td>SAO</td>\n",
       "    </tr>\n",
       "    <tr>\n",
       "      <th>3</th>\n",
       "      <td>SVAO</td>\n",
       "    </tr>\n",
       "    <tr>\n",
       "      <th>4</th>\n",
       "      <td>SZAO</td>\n",
       "    </tr>\n",
       "  </tbody>\n",
       "</table>\n",
       "</div>"
      ],
      "text/plain": [
       "  category\n",
       "0      VAO\n",
       "1      CAO\n",
       "2      SAO\n",
       "3     SVAO\n",
       "4     SZAO"
      ]
     },
     "execution_count": 80,
     "metadata": {},
     "output_type": "execute_result"
    }
   ],
   "source": [
    "df"
   ]
  },
  {
   "cell_type": "code",
   "execution_count": 81,
   "id": "88447a29-97a3-4fe0-8d36-2f59b03a3ec5",
   "metadata": {},
   "outputs": [],
   "source": [
    "from category_encoders import BinaryEncoder"
   ]
  },
  {
   "cell_type": "code",
   "execution_count": 82,
   "id": "3b90c29c-d89c-4877-ae12-710fa23224ad",
   "metadata": {},
   "outputs": [
    {
     "name": "stdout",
     "output_type": "stream",
     "text": [
      "('|    | category   |   category_0 |   category_1 |   category_2 |\\n'\n",
      " '|---:|:-----------|-------------:|-------------:|-------------:|\\n'\n",
      " '|  0 | VAO        |            0 |            0 |            1 |\\n'\n",
      " '|  1 | CAO        |            0 |            1 |            0 |\\n'\n",
      " '|  2 | SAO        |            0 |            1 |            1 |\\n'\n",
      " '|  3 | SVAO       |            1 |            0 |            0 |\\n'\n",
      " '|  4 | SZAO       |            1 |            0 |            1 |')\n"
     ]
    }
   ],
   "source": [
    "from category_encoders import BinaryEncoder\n",
    "be = BinaryEncoder()\n",
    "pprint(pd.concat([df, be.fit_transform(df)], axis=1).to_markdown())"
   ]
  },
  {
   "cell_type": "code",
   "execution_count": null,
   "id": "5ac1f740-75bb-4494-9afb-a26fb7290f5f",
   "metadata": {},
   "outputs": [],
   "source": []
  }
 ],
 "metadata": {
  "kernelspec": {
   "display_name": "Python 3 (ipykernel)",
   "language": "python",
   "name": "python3"
  },
  "language_info": {
   "codemirror_mode": {
    "name": "ipython",
    "version": 3
   },
   "file_extension": ".py",
   "mimetype": "text/x-python",
   "name": "python",
   "nbconvert_exporter": "python",
   "pygments_lexer": "ipython3",
   "version": "3.9.12"
  }
 },
 "nbformat": 4,
 "nbformat_minor": 5
}
